{
 "cells": [
  {
   "cell_type": "markdown",
   "metadata": {},
   "source": [
    "# plot.hist"
   ]
  },
  {
   "cell_type": "markdown",
   "metadata": {},
   "source": [
    "## Help"
   ]
  },
  {
   "cell_type": "code",
   "execution_count": null,
   "metadata": {},
   "outputs": [],
   "source": [
    "import scripts.plot.hist as hist\n",
    "\n",
    "# Show help\n",
    "try:\n",
    "    args = hist.parse([\"-h\"])\n",
    "except:\n",
    "    pass"
   ]
  },
  {
   "cell_type": "markdown",
   "metadata": {},
   "source": [
    "## Plot Histograms (Ungrouped)"
   ]
  },
  {
   "cell_type": "markdown",
   "metadata": {},
   "source": [
    "### Plot Single Histogram"
   ]
  },
  {
   "cell_type": "markdown",
   "metadata": {},
   "source": [
    "To plot a single histogram you just have to specify the file containing the data (`-i`) and the column in the file that you want to plot (`-d`)."
   ]
  },
  {
   "cell_type": "code",
   "execution_count": null,
   "metadata": {},
   "outputs": [],
   "source": [
    "argv = [\"-i\", \"data/hist_rmsd_n1.dat\",\n",
    "        \"-d\", \"1\",\n",
    "       ]\n",
    "\n",
    "args = hist.parse(argv)\n",
    "\n",
    "hist.plot(args)"
   ]
  },
  {
   "cell_type": "markdown",
   "metadata": {},
   "source": [
    "The optional arguments can be used to make the whole plot more appealing."
   ]
  },
  {
   "cell_type": "code",
   "execution_count": null,
   "metadata": {},
   "outputs": [],
   "source": [
    "argv = [\"-i\", \"data/hist_rmsd_n1.dat\",\n",
    "        \"-d\", \"1\",\n",
    "        \"-b\", \"15\",\n",
    "        \"-t\", \"RMDS Distribution\",\n",
    "        \"-lx\", \"RMSD (Å)\",\n",
    "        \"-l\", \"Histogram\",\n",
    "        \"-ll\", \"2.5\",\n",
    "        \"-rl\", \"5\",\n",
    "       ]\n",
    "\n",
    "args = hist.parse(argv)\n",
    "\n",
    "hist.plot(args)"
   ]
  },
  {
   "cell_type": "markdown",
   "metadata": {},
   "source": [
    "Kernel density estimation allow to estimate the probabilty density function of the distribution. Note that this will normalize the histogram."
   ]
  },
  {
   "cell_type": "code",
   "execution_count": null,
   "metadata": {},
   "outputs": [],
   "source": [
    "argv = [\"-i\", \"data/hist_rmsd_n1.dat\",\n",
    "        \"-d\", \"1\",\n",
    "        \"-b\", \"25\",\n",
    "        \"-t\", \"RMDS Distribution\",\n",
    "        \"-lx\", \"RMSD (Å)\",\n",
    "        \"-l\", \"KDE\",\n",
    "        \"-ll\", \"2.5\",\n",
    "        \"-rl\", \"5\",\n",
    "        \"--kde\",\n",
    "       ]\n",
    "\n",
    "args = hist.parse(argv)\n",
    "\n",
    "hist.plot(args)"
   ]
  },
  {
   "cell_type": "markdown",
   "metadata": {},
   "source": [
    "### Plot Multiple Histograms"
   ]
  },
  {
   "cell_type": "code",
   "execution_count": null,
   "metadata": {},
   "outputs": [],
   "source": [
    "argv = [\"-i\", \"data/hist_rmsd_n1.dat\", \"data/hist_rmsd_n2.dat\", \"data/hist_rmsd_rd1.dat\", \"data/hist_rmsd_rd2.dat\",\n",
    "        \"-d\", \"1\", \"3\", \"5\", \"7\",\n",
    "        \"-b\", \"25\",\n",
    "        \"-t\", \"RMDS Distribution\",\n",
    "        \"-lx\", \"RMSD (Å)\",\n",
    "        \"-l\", \"N1\", \"N2\", \"RD1\", \"RD2\"\n",
    "       ]\n",
    "\n",
    "args = hist.parse(argv)\n",
    "\n",
    "hist.plot(args)"
   ]
  },
  {
   "cell_type": "markdown",
   "metadata": {},
   "source": [
    "## Plot Histograms (Grouped)"
   ]
  },
  {
   "cell_type": "markdown",
   "metadata": {},
   "source": [
    "The distributions can be grouped together in different subplots."
   ]
  },
  {
   "cell_type": "code",
   "execution_count": null,
   "metadata": {},
   "outputs": [],
   "source": [
    "argv = [\"-i\", \"data/hist_rmsd_n1.dat\", \"data/hist_rmsd_n2.dat\", \"data/hist_rmsd_rd1.dat\", \"data/hist_rmsd_rd2.dat\",\n",
    "        \"-d\", \"1\", \"3\", \"5\", \"7\",\n",
    "        \"-b\", \"25\",\n",
    "        \"-t\", \"RMDS Distribution\",\n",
    "        \"-lx\", \"RMSD (Å)\",\n",
    "        \"-l\", \"N1\", \"N2\", \"RD1\", \"RD2\",\n",
    "        \"--kde\",\n",
    "        \"-g\", \"0\", \"0\", \"1\", \"1\",\n",
    "       ]\n",
    "\n",
    "args = hist.parse(argv)\n",
    "\n",
    "hist.plot(args)"
   ]
  },
  {
   "cell_type": "code",
   "execution_count": null,
   "metadata": {},
   "outputs": [],
   "source": [
    "argv = [\"-i\", \"data/hist_rmsd_n1.dat\", \"data/hist_rmsd_n2.dat\", \"data/hist_rmsd_rd1.dat\", \"data/hist_rmsd_rd2.dat\",\n",
    "        \"-d\", \"1\", \"3\", \"5\", \"7\",\n",
    "        \"-b\", \"25\",\n",
    "        \"-t\", \"RMDS Distribution\",\n",
    "        \"-lx\", \"RMSD (Å)\",\n",
    "        \"-l\", \"N1\", \"N2\", \"RD1\", \"RD2\",\n",
    "        \"--kde\",\n",
    "        \"-g\", \"0\", \"1\", \"2\", \"3\",\n",
    "       ]\n",
    "\n",
    "args = hist.parse(argv)\n",
    "\n",
    "hist.plot(args)"
   ]
  }
 ],
 "metadata": {
  "kernelspec": {
   "display_name": "Python 3",
   "language": "python",
   "name": "python3"
  },
  "language_info": {
   "codemirror_mode": {
    "name": "ipython",
    "version": 3
   },
   "file_extension": ".py",
   "mimetype": "text/x-python",
   "name": "python",
   "nbconvert_exporter": "python",
   "pygments_lexer": "ipython3",
   "version": "3.6.7"
  }
 },
 "nbformat": 4,
 "nbformat_minor": 2
}
